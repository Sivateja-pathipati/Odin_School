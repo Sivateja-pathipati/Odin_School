{
 "cells": [
  {
   "cell_type": "code",
   "execution_count": 1,
   "id": "99747df8",
   "metadata": {},
   "outputs": [],
   "source": [
    "import pandas as pd\n",
    "import numpy as np \n",
    "from sklearn.model_selection import train_test_split\n",
    "from xgboost import XGBRegressor\n",
    "from sklearn.metrics import mean_absolute_error,root_mean_squared_error,r2_score"
   ]
  },
  {
   "cell_type": "code",
   "execution_count": 2,
   "id": "e1092714",
   "metadata": {},
   "outputs": [
    {
     "data": {
      "text/html": [
       "<div>\n",
       "<style scoped>\n",
       "    .dataframe tbody tr th:only-of-type {\n",
       "        vertical-align: middle;\n",
       "    }\n",
       "\n",
       "    .dataframe tbody tr th {\n",
       "        vertical-align: top;\n",
       "    }\n",
       "\n",
       "    .dataframe thead th {\n",
       "        text-align: right;\n",
       "    }\n",
       "</style>\n",
       "<table border=\"1\" class=\"dataframe\">\n",
       "  <thead>\n",
       "    <tr style=\"text-align: right;\">\n",
       "      <th></th>\n",
       "      <th>ppi</th>\n",
       "      <th>is_touchscreen</th>\n",
       "      <th>ram</th>\n",
       "      <th>opsys</th>\n",
       "      <th>hdd</th>\n",
       "      <th>ssd</th>\n",
       "      <th>clock_speed</th>\n",
       "      <th>cpu_mean</th>\n",
       "      <th>dual_memory</th>\n",
       "      <th>inches</th>\n",
       "      <th>weight</th>\n",
       "      <th>hybrid</th>\n",
       "      <th>typename</th>\n",
       "      <th>flashstorage</th>\n",
       "      <th>gpu_mean</th>\n",
       "      <th>price_log</th>\n",
       "    </tr>\n",
       "  </thead>\n",
       "  <tbody>\n",
       "    <tr>\n",
       "      <th>0</th>\n",
       "      <td>226.98</td>\n",
       "      <td>0</td>\n",
       "      <td>8.0</td>\n",
       "      <td>0.0</td>\n",
       "      <td>0</td>\n",
       "      <td>128</td>\n",
       "      <td>2.3</td>\n",
       "      <td>11.301072</td>\n",
       "      <td>0</td>\n",
       "      <td>13.3</td>\n",
       "      <td>1.37</td>\n",
       "      <td>0</td>\n",
       "      <td>0.0</td>\n",
       "      <td>0</td>\n",
       "      <td>11.463797</td>\n",
       "      <td>11.175755</td>\n",
       "    </tr>\n",
       "    <tr>\n",
       "      <th>1</th>\n",
       "      <td>127.68</td>\n",
       "      <td>0</td>\n",
       "      <td>8.0</td>\n",
       "      <td>0.0</td>\n",
       "      <td>0</td>\n",
       "      <td>0</td>\n",
       "      <td>1.8</td>\n",
       "      <td>11.030615</td>\n",
       "      <td>0</td>\n",
       "      <td>13.3</td>\n",
       "      <td>1.34</td>\n",
       "      <td>0</td>\n",
       "      <td>0.0</td>\n",
       "      <td>128</td>\n",
       "      <td>10.932775</td>\n",
       "      <td>10.776777</td>\n",
       "    </tr>\n",
       "    <tr>\n",
       "      <th>2</th>\n",
       "      <td>141.21</td>\n",
       "      <td>0</td>\n",
       "      <td>8.0</td>\n",
       "      <td>1.0</td>\n",
       "      <td>0</td>\n",
       "      <td>256</td>\n",
       "      <td>2.5</td>\n",
       "      <td>10.728625</td>\n",
       "      <td>0</td>\n",
       "      <td>15.6</td>\n",
       "      <td>1.86</td>\n",
       "      <td>0</td>\n",
       "      <td>1.0</td>\n",
       "      <td>0</td>\n",
       "      <td>10.924892</td>\n",
       "      <td>10.329931</td>\n",
       "    </tr>\n",
       "    <tr>\n",
       "      <th>3</th>\n",
       "      <td>220.53</td>\n",
       "      <td>0</td>\n",
       "      <td>16.0</td>\n",
       "      <td>0.0</td>\n",
       "      <td>0</td>\n",
       "      <td>512</td>\n",
       "      <td>2.7</td>\n",
       "      <td>10.826395</td>\n",
       "      <td>0</td>\n",
       "      <td>15.4</td>\n",
       "      <td>1.83</td>\n",
       "      <td>0</td>\n",
       "      <td>0.0</td>\n",
       "      <td>0</td>\n",
       "      <td>10.826395</td>\n",
       "      <td>11.814476</td>\n",
       "    </tr>\n",
       "    <tr>\n",
       "      <th>4</th>\n",
       "      <td>226.98</td>\n",
       "      <td>0</td>\n",
       "      <td>8.0</td>\n",
       "      <td>0.0</td>\n",
       "      <td>0</td>\n",
       "      <td>256</td>\n",
       "      <td>3.1</td>\n",
       "      <td>11.596266</td>\n",
       "      <td>0</td>\n",
       "      <td>13.3</td>\n",
       "      <td>1.37</td>\n",
       "      <td>0</td>\n",
       "      <td>0.0</td>\n",
       "      <td>0</td>\n",
       "      <td>11.596266</td>\n",
       "      <td>11.473101</td>\n",
       "    </tr>\n",
       "  </tbody>\n",
       "</table>\n",
       "</div>"
      ],
      "text/plain": [
       "      ppi  is_touchscreen   ram  opsys  hdd  ssd  clock_speed   cpu_mean  \\\n",
       "0  226.98               0   8.0    0.0    0  128          2.3  11.301072   \n",
       "1  127.68               0   8.0    0.0    0    0          1.8  11.030615   \n",
       "2  141.21               0   8.0    1.0    0  256          2.5  10.728625   \n",
       "3  220.53               0  16.0    0.0    0  512          2.7  10.826395   \n",
       "4  226.98               0   8.0    0.0    0  256          3.1  11.596266   \n",
       "\n",
       "   dual_memory  inches  weight  hybrid  typename  flashstorage   gpu_mean  \\\n",
       "0            0    13.3    1.37       0       0.0             0  11.463797   \n",
       "1            0    13.3    1.34       0       0.0           128  10.932775   \n",
       "2            0    15.6    1.86       0       1.0             0  10.924892   \n",
       "3            0    15.4    1.83       0       0.0             0  10.826395   \n",
       "4            0    13.3    1.37       0       0.0             0  11.596266   \n",
       "\n",
       "   price_log  \n",
       "0  11.175755  \n",
       "1  10.776777  \n",
       "2  10.329931  \n",
       "3  11.814476  \n",
       "4  11.473101  "
      ]
     },
     "execution_count": 2,
     "metadata": {},
     "output_type": "execute_result"
    }
   ],
   "source": [
    "df = pd.read_csv('encoded_data',index_col=0)\n",
    "df.head()"
   ]
  },
  {
   "cell_type": "code",
   "execution_count": 3,
   "id": "b7161f9a",
   "metadata": {},
   "outputs": [],
   "source": [
    "X = df.drop(columns = 'price_log')\n",
    "y = df['price_log']\n",
    "X_train,X_test,y_train,y_test = train_test_split(X,y,test_size=0.2,random_state=42)"
   ]
  },
  {
   "cell_type": "code",
   "execution_count": 4,
   "id": "93890ad0",
   "metadata": {},
   "outputs": [
    {
     "name": "stdout",
     "output_type": "stream",
     "text": [
      "<class 'pandas.core.frame.DataFrame'>\n",
      "Index: 1244 entries, 0 to 1243\n",
      "Data columns (total 15 columns):\n",
      " #   Column          Non-Null Count  Dtype  \n",
      "---  ------          --------------  -----  \n",
      " 0   ppi             1244 non-null   float64\n",
      " 1   is_touchscreen  1244 non-null   int64  \n",
      " 2   ram             1244 non-null   float64\n",
      " 3   opsys           1244 non-null   float64\n",
      " 4   hdd             1244 non-null   int64  \n",
      " 5   ssd             1244 non-null   int64  \n",
      " 6   clock_speed     1244 non-null   float64\n",
      " 7   cpu_mean        1244 non-null   float64\n",
      " 8   dual_memory     1244 non-null   int64  \n",
      " 9   inches          1244 non-null   float64\n",
      " 10  weight          1244 non-null   float64\n",
      " 11  hybrid          1244 non-null   int64  \n",
      " 12  typename        1244 non-null   float64\n",
      " 13  flashstorage    1244 non-null   int64  \n",
      " 14  gpu_mean        1244 non-null   float64\n",
      "dtypes: float64(9), int64(6)\n",
      "memory usage: 155.5 KB\n"
     ]
    }
   ],
   "source": [
    "X.info()"
   ]
  },
  {
   "cell_type": "code",
   "execution_count": 5,
   "id": "0470cf4e",
   "metadata": {},
   "outputs": [],
   "source": [
    "model1 = XGBRegressor()\n",
    "model1.load_model('xgb_regressor_model.json')"
   ]
  },
  {
   "cell_type": "code",
   "execution_count": 6,
   "id": "af431dc3",
   "metadata": {},
   "outputs": [
    {
     "name": "stdout",
     "output_type": "stream",
     "text": [
      "Train MAE: 0.07, Test MAE: 0.15\n",
      "Train RMSE: 0.09, Test RMSE: 0.20\n",
      "Train R²: 0.98, Test R²: 0.88\n"
     ]
    }
   ],
   "source": [
    "y_train_pred = model1.predict(X_train) \n",
    "y_test_pred = model1.predict(X_test)\n",
    "# Calculate Metrics\n",
    "train_mae = mean_absolute_error(y_train, y_train_pred)\n",
    "test_mae = mean_absolute_error(y_test, y_test_pred)\n",
    "train_rmse = root_mean_squared_error(y_train,y_train_pred)\n",
    "test_rmse = root_mean_squared_error(y_test, y_test_pred)\n",
    "train_r2 = r2_score(y_train, y_train_pred)\n",
    "test_r2 = r2_score(y_test, y_test_pred)\n",
    "\n",
    "print(f\"Train MAE: {train_mae:.2f}, Test MAE: {test_mae:.2f}\")\n",
    "print(f\"Train RMSE: {train_rmse:.2f}, Test RMSE: {test_rmse:.2f}\")\n",
    "\n",
    "print(f\"Train R²: {train_r2:.2f}, Test R²: {test_r2:.2f}\")"
   ]
  },
  {
   "cell_type": "markdown",
   "id": "55eee80a",
   "metadata": {},
   "source": [
    "### SAMPLE PREDICTIONS"
   ]
  },
  {
   "cell_type": "code",
   "execution_count": 7,
   "id": "ce22d06d",
   "metadata": {},
   "outputs": [],
   "source": [
    "def predict_results(input_X,model):\n",
    "    y_pred = model.predict(input_X)\n",
    "    y_max,y_min = np.exp(y_pred-test_rmse),np.exp(y_pred+test_rmse)\n",
    "    y_predicted = np.exp(y_pred)\n",
    "    return y_pred,y_pred+test_rmse,y_pred-test_rmse,y_predicted,(y_max,y_min)"
   ]
  },
  {
   "cell_type": "code",
   "execution_count": 8,
   "id": "d53cc849",
   "metadata": {},
   "outputs": [
    {
     "data": {
      "text/plain": [
       "array([[141.21      ,   0.        ,  16.        ,   2.        ,\n",
       "          0.        , 512.        ,   2.6       ,  11.35365564,\n",
       "          0.        ,  15.6       ,   3.31      ,   0.        ,\n",
       "          2.        ,   0.        ,  11.06229896]])"
      ]
     },
     "execution_count": 8,
     "metadata": {},
     "output_type": "execute_result"
    }
   ],
   "source": [
    "input_X = np.array(X_test.iloc[1,:].values).reshape(1,-1)\n",
    "input_X"
   ]
  },
  {
   "cell_type": "code",
   "execution_count": 9,
   "id": "38dad12d",
   "metadata": {},
   "outputs": [
    {
     "data": {
      "text/plain": [
       "(array([11.337991], dtype=float32),\n",
       " array([11.540751], dtype=float32),\n",
       " array([11.13523], dtype=float32),\n",
       " array([83951.18], dtype=float32),\n",
       " (array([68543.92], dtype=float32), array([102821.67], dtype=float32)))"
      ]
     },
     "execution_count": 9,
     "metadata": {},
     "output_type": "execute_result"
    }
   ],
   "source": [
    "predict_results(input_X=input_X,model=model1)"
   ]
  },
  {
   "cell_type": "code",
   "execution_count": 10,
   "id": "f1fe56a2",
   "metadata": {},
   "outputs": [
    {
     "name": "stdout",
     "output_type": "stream",
     "text": [
      "11.149519345988928\n"
     ]
    },
    {
     "data": {
      "text/plain": [
       "69530.40000000002"
      ]
     },
     "execution_count": 10,
     "metadata": {},
     "output_type": "execute_result"
    }
   ],
   "source": [
    "print(y_test.iloc[1])\n",
    "np.exp(y_test.iloc[1])"
   ]
  },
  {
   "cell_type": "code",
   "execution_count": null,
   "id": "29c72ed2",
   "metadata": {},
   "outputs": [],
   "source": []
  },
  {
   "cell_type": "code",
   "execution_count": null,
   "id": "43496cc0",
   "metadata": {},
   "outputs": [],
   "source": []
  }
 ],
 "metadata": {
  "kernelspec": {
   "display_name": "tensorflow-env",
   "language": "python",
   "name": "python3"
  },
  "language_info": {
   "codemirror_mode": {
    "name": "ipython",
    "version": 3
   },
   "file_extension": ".py",
   "mimetype": "text/x-python",
   "name": "python",
   "nbconvert_exporter": "python",
   "pygments_lexer": "ipython3",
   "version": "3.10.14"
  }
 },
 "nbformat": 4,
 "nbformat_minor": 5
}
